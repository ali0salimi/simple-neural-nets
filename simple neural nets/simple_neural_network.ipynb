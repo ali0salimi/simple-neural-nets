{
 "cells": [
  {
   "cell_type": "code",
   "execution_count": null,
   "id": "0ba8d6f4",
   "metadata": {},
   "outputs": [],
   "source": [
    "import numpy as np\n",
    "import matplotlib.pyplot as plt\n",
    "import seaborn as sns\n",
    "from sklearn.datasets import load_breast_cancer\n",
    "from sklearn.metrics import log_loss\n",
    "from sklearn.metrics import accuracy_score\n",
    "from sklearn.preprocessing import StandardScaler\n",
    "sns.set()\n",
    "X,y = load_breast_cancer(return_X_y=True)\n",
    "scaler = StandardScaler().fit(X)\n",
    "X = scaler.transform(X)\n",
    "X = X.T\n",
    "y = y.reshape(-1,1)"
   ]
  },
  {
   "cell_type": "code",
   "execution_count": 56,
   "id": "049a7c28",
   "metadata": {},
   "outputs": [],
   "source": [
    "sigmoid = lambda x : 1/(1+np.exp(-x))"
   ]
  },
  {
   "cell_type": "code",
   "execution_count": 57,
   "id": "c3316b08",
   "metadata": {},
   "outputs": [],
   "source": [
    "classify = lambda arr : np.where(arr>0.5,1,0)"
   ]
  },
  {
   "cell_type": "code",
   "execution_count": 58,
   "id": "6baf7b5f",
   "metadata": {},
   "outputs": [],
   "source": [
    "def initialize_weights(input_dim,n_neurons) : \n",
    "    W1 = np.random.randn(n_neurons*input_dim).reshape(n_neurons,input_dim)\n",
    "    W2 = np.random.randn(n_neurons).reshape(1,-1)\n",
    "    b1 = np.zeros((n_neurons,1))\n",
    "    b2 = 0\n",
    "    return [W1,W2],[b1,b2]"
   ]
  },
  {
   "cell_type": "code",
   "execution_count": 59,
   "id": "228b476a",
   "metadata": {},
   "outputs": [],
   "source": [
    "def feed_forward(X,Y,W,B) : \n",
    "    Z1 = W[0]@X + B[0]\n",
    "    A1 = sigmoid(Z1)\n",
    "    Z2 = (W[1]@A1).T + B[1]\n",
    "    A2 = sigmoid(Z2)\n",
    "    cache = {\"A2\":A2,\"A1\":A1}\n",
    "    cost=log_loss(Y,A2)\n",
    "    accuracy=accuracy_score(Y,classify(A2))\n",
    "    return cost,cache,accuracy"
   ]
  },
  {
   "cell_type": "code",
   "execution_count": 60,
   "id": "873ea7cb",
   "metadata": {},
   "outputs": [],
   "source": [
    "def propagate(X,Y,W,B,cache) :\n",
    "    m = X.shape[1]\n",
    "    A2,A1 = cache.values()\n",
    "    W1,W2 = W\n",
    "    dW2 = (A1@(A2-Y)).T * 1/m\n",
    "    db2 = np.sum(A2-Y,0) * 1/m\n",
    "    dZ1 = ((A2-Y)@W2) * (A1*(1-A1)).T\n",
    "    dW1 = (X@dZ1).T/m\n",
    "    db1 = (np.sum(dZ1,0)).reshape(-1,1)/m\n",
    "    gradients = {\"dW2\":dW2,\"db2\":db2[0],\"dW1\":dW1,\"db1\":db1.reshape(-1,1)}\n",
    "    \n",
    "    return gradients"
   ]
  },
  {
   "cell_type": "code",
   "execution_count": 61,
   "id": "30ec1dd3",
   "metadata": {},
   "outputs": [],
   "source": [
    "def update_weights(W,B,gradiets,learning_rate=0.01) :\n",
    "    dW2,db2,dW1,db1 = gradiets.values()\n",
    "    W1 = W[0] - learning_rate * dW1\n",
    "    W2 = W[1] - learning_rate * dW2\n",
    "    b1 = B[0] - learning_rate * db1\n",
    "    b2 = B[1] - learning_rate * db2\n",
    "    return [W1,W2],[b1,b2]"
   ]
  },
  {
   "cell_type": "code",
   "execution_count": 62,
   "id": "76eeeeaf",
   "metadata": {},
   "outputs": [],
   "source": [
    "def model(X,Y,epochs,n_neurons) :\n",
    "    W,B = initialize_weights(X.shape[0],n_neurons)\n",
    "    history={\"loss\":[],\"accuracy\":[]}\n",
    "    for epoch in range(epochs) : \n",
    "        cost,cache,acc = feed_forward(X,Y,W,B)\n",
    "        gradient = propagate(X,Y,W,B,cache)\n",
    "        W,B = update_weights(W,B,gradient)\n",
    "        history[\"loss\"].append(cost)\n",
    "        history[\"accuracy\"].append(acc)\n",
    "        if epoch%10==0 : \n",
    "            print(\"epoch {}/{} - loss :{} - accuracy:{}\".format(epoch,epochs,cost,acc))\n",
    "    return W,B,history"
   ]
  },
  {
   "cell_type": "code",
   "execution_count": 63,
   "id": "1d274eec",
   "metadata": {},
   "outputs": [
    {
     "name": "stdout",
     "output_type": "stream",
     "text": [
      "epoch 0/1000 - loss :1.6918650302230174 - accuracy:0.18980667838312829\n",
      "epoch 10/1000 - loss :1.5500181490084681 - accuracy:0.2126537785588752\n",
      "epoch 20/1000 - loss :1.4248776124818743 - accuracy:0.2513181019332162\n",
      "epoch 30/1000 - loss :1.3153923802906253 - accuracy:0.29173989455184535\n",
      "epoch 40/1000 - loss :1.220079826427205 - accuracy:0.3216168717047452\n",
      "epoch 50/1000 - loss :1.1372470630326221 - accuracy:0.34973637961335674\n",
      "epoch 60/1000 - loss :1.065177608750741 - accuracy:0.3936731107205624\n",
      "epoch 70/1000 - loss :1.0022589411370297 - accuracy:0.45166959578207383\n",
      "epoch 80/1000 - loss :0.9470528251353764 - accuracy:0.4903339191564148\n",
      "epoch 90/1000 - loss :0.8983218275587995 - accuracy:0.5325131810193322\n",
      "epoch 100/1000 - loss :0.855027280768501 - accuracy:0.5799648506151143\n",
      "epoch 110/1000 - loss :0.816311385994896 - accuracy:0.6080843585237259\n",
      "epoch 120/1000 - loss :0.7814723740062801 - accuracy:0.6344463971880492\n",
      "epoch 130/1000 - loss :0.7499383066428199 - accuracy:0.6590509666080844\n",
      "epoch 140/1000 - loss :0.7212426773199602 - accuracy:0.6731107205623902\n",
      "epoch 150/1000 - loss :0.6950033374021588 - accuracy:0.6854130052724078\n",
      "epoch 160/1000 - loss :0.6709052106420592 - accuracy:0.70298769771529\n",
      "epoch 170/1000 - loss :0.6486865995151045 - accuracy:0.718804920913884\n",
      "epoch 180/1000 - loss :0.6281285425679664 - accuracy:0.7293497363796133\n",
      "epoch 190/1000 - loss :0.6090465769595372 - accuracy:0.7398945518453427\n",
      "epoch 200/1000 - loss :0.5912843120220872 - accuracy:0.7486818980667839\n",
      "epoch 210/1000 - loss :0.5747083432861778 - accuracy:0.7574692442882249\n",
      "epoch 220/1000 - loss :0.559204167889115 - accuracy:0.7609841827768014\n",
      "epoch 230/1000 - loss :0.544672868612486 - accuracy:0.7662565905096661\n",
      "epoch 240/1000 - loss :0.5310284072972855 - accuracy:0.773286467486819\n",
      "epoch 250/1000 - loss :0.5181954144725979 - accuracy:0.7803163444639719\n",
      "epoch 260/1000 - loss :0.5061073895167485 - accuracy:0.7873462214411248\n",
      "epoch 270/1000 - loss :0.4947052421134292 - accuracy:0.7908611599297012\n",
      "epoch 280/1000 - loss :0.4839361163327413 - accuracy:0.7926186291739895\n",
      "epoch 290/1000 - loss :0.4737524464416946 - accuracy:0.7996485061511424\n",
      "epoch 300/1000 - loss :0.4641112001701978 - accuracy:0.8014059753954306\n",
      "epoch 310/1000 - loss :0.4549732713607361 - accuracy:0.81195079086116\n",
      "epoch 320/1000 - loss :0.44630298991926737 - accuracy:0.8172231985940246\n",
      "epoch 330/1000 - loss :0.4380677226963301 - accuracy:0.820738137082601\n",
      "epoch 340/1000 - loss :0.4302375441944514 - accuracy:0.8242530755711776\n",
      "epoch 350/1000 - loss :0.42278496065815835 - accuracy:0.8347978910369068\n",
      "epoch 360/1000 - loss :0.4156846750524828 - accuracy:0.8400702987697716\n",
      "epoch 370/1000 - loss :0.4089133836459519 - accuracy:0.8471001757469244\n",
      "epoch 380/1000 - loss :0.40244959742199066 - accuracy:0.8471001757469244\n",
      "epoch 390/1000 - loss :0.39627348343130514 - accuracy:0.8506151142355008\n",
      "epoch 400/1000 - loss :0.3903667225727411 - accuracy:0.8523725834797891\n",
      "epoch 410/1000 - loss :0.38471238126077284 - accuracy:0.8541300527240774\n",
      "epoch 420/1000 - loss :0.3792947951048656 - accuracy:0.8576449912126538\n",
      "epoch 430/1000 - loss :0.37409946317453985 - accuracy:0.859402460456942\n",
      "epoch 440/1000 - loss :0.3691129517215931 - accuracy:0.859402460456942\n",
      "epoch 450/1000 - loss :0.3643228064282389 - accuracy:0.8629173989455184\n",
      "epoch 460/1000 - loss :0.3597174723831958 - accuracy:0.8629173989455184\n",
      "epoch 470/1000 - loss :0.35528622108170715 - accuracy:0.8664323374340949\n",
      "epoch 480/1000 - loss :0.3510190838161888 - accuracy:0.8681898066783831\n",
      "epoch 490/1000 - loss :0.346906790881557 - accuracy:0.8681898066783831\n",
      "epoch 500/1000 - loss :0.34294071606900156 - accuracy:0.8681898066783831\n",
      "epoch 510/1000 - loss :0.33911282596703546 - accuracy:0.8681898066783831\n",
      "epoch 520/1000 - loss :0.3354156336305053 - accuracy:0.8681898066783831\n",
      "epoch 530/1000 - loss :0.3318421562173978 - accuracy:0.8699472759226714\n",
      "epoch 540/1000 - loss :0.32838587622985266 - accuracy:0.8699472759226714\n",
      "epoch 550/1000 - loss :0.3250407060297324 - accuracy:0.8699472759226714\n",
      "epoch 560/1000 - loss :0.32180095533037595 - accuracy:0.8699472759226714\n",
      "epoch 570/1000 - loss :0.31866130139475096 - accuracy:0.8717047451669596\n",
      "epoch 580/1000 - loss :0.3156167616962008 - accuracy:0.8717047451669596\n",
      "epoch 590/1000 - loss :0.31266266882148336 - accuracy:0.8717047451669596\n",
      "epoch 600/1000 - loss :0.30979464741696583 - accuracy:0.8734622144112478\n",
      "epoch 610/1000 - loss :0.30700859299788613 - accuracy:0.8717047451669596\n",
      "epoch 620/1000 - loss :0.30430065245769394 - accuracy:0.8734622144112478\n",
      "epoch 630/1000 - loss :0.3016672061298486 - accuracy:0.8734622144112478\n",
      "epoch 640/1000 - loss :0.2991048512682495 - accuracy:0.8734622144112478\n",
      "epoch 650/1000 - loss :0.29661038682488683 - accuracy:0.8734622144112478\n",
      "epoch 660/1000 - loss :0.2941807994144653 - accuracy:0.875219683655536\n",
      "epoch 670/1000 - loss :0.2918132503658132 - accuracy:0.875219683655536\n",
      "epoch 680/1000 - loss :0.2895050637689659 - accuracy:0.875219683655536\n",
      "epoch 690/1000 - loss :0.2872537154350035 - accuracy:0.875219683655536\n",
      "epoch 700/1000 - loss :0.28505682269312577 - accuracy:0.8769771528998243\n",
      "epoch 710/1000 - loss :0.28291213495614725 - accuracy:0.8769771528998243\n",
      "epoch 720/1000 - loss :0.2808175249916568 - accuracy:0.8769771528998243\n",
      "epoch 730/1000 - loss :0.2787709808415819 - accuracy:0.8769771528998243\n",
      "epoch 740/1000 - loss :0.2767705983378776 - accuracy:0.8787346221441125\n",
      "epoch 750/1000 - loss :0.27481457416658006 - accuracy:0.8787346221441125\n",
      "epoch 760/1000 - loss :0.27290119943656904 - accuracy:0.8822495606326889\n",
      "epoch 770/1000 - loss :0.2710288537131083 - accuracy:0.8857644991212654\n",
      "epoch 780/1000 - loss :0.26919599947962314 - accuracy:0.8857644991212654\n",
      "epoch 790/1000 - loss :0.26740117699425386 - accuracy:0.8875219683655536\n",
      "epoch 800/1000 - loss :0.26564299951053 - accuracy:0.8892794376098418\n",
      "epoch 810/1000 - loss :0.26392014883405984 - accuracy:0.8910369068541301\n",
      "epoch 820/1000 - loss :0.2622313711894598 - accuracy:0.8927943760984183\n",
      "epoch 830/1000 - loss :0.2605754733738657 - accuracy:0.8927943760984183\n",
      "epoch 840/1000 - loss :0.2589513191753022 - accuracy:0.8927943760984183\n",
      "epoch 850/1000 - loss :0.25735782603595453 - accuracy:0.8927943760984183\n",
      "epoch 860/1000 - loss :0.255793961941994 - accuracy:0.8927943760984183\n",
      "epoch 870/1000 - loss :0.25425874252308495 - accuracy:0.8927943760984183\n",
      "epoch 880/1000 - loss :0.25275122834604663 - accuracy:0.8945518453427065\n",
      "epoch 890/1000 - loss :0.2512705223883711 - accuracy:0.8945518453427065\n",
      "epoch 900/1000 - loss :0.24981576767843158 - accuracy:0.8945518453427065\n",
      "epoch 910/1000 - loss :0.24838614509024173 - accuracy:0.8980667838312829\n",
      "epoch 920/1000 - loss :0.24698087128157423 - accuracy:0.8980667838312829\n",
      "epoch 930/1000 - loss :0.2455991967651131 - accuracy:0.9015817223198594\n",
      "epoch 940/1000 - loss :0.24424040410310843 - accuracy:0.9068541300527241\n",
      "epoch 950/1000 - loss :0.24290380621673066 - accuracy:0.9068541300527241\n",
      "epoch 960/1000 - loss :0.24158874480199044 - accuracy:0.9086115992970123\n",
      "epoch 970/1000 - loss :0.240294588844705 - accuracy:0.9103690685413005\n",
      "epoch 980/1000 - loss :0.23902073322755524 - accuracy:0.9121265377855887\n",
      "epoch 990/1000 - loss :0.23776659742279507 - accuracy:0.9121265377855887\n"
     ]
    }
   ],
   "source": [
    "W,B,history=model(X,y,1000,20)"
   ]
  },
  {
   "cell_type": "code",
   "execution_count": 67,
   "id": "7d458ea1",
   "metadata": {},
   "outputs": [
    {
     "data": {
      "text/plain": [
       "<matplotlib.legend.Legend at 0x7f3ae0434610>"
      ]
     },
     "execution_count": 67,
     "metadata": {},
     "output_type": "execute_result"
    },
    {
     "data": {
      "image/png": "[encoded data removed]",
      "text/plain": [
       "<Figure size 432x288 with 1 Axes>"
      ]
     },
     "metadata": {},
     "output_type": "display_data"
    }
   ],
   "source": [
    "loss=history[\"loss\"]\n",
    "acc=history[\"accuracy\"]\n",
    "plt.plot([i*10 for i in range(len(loss))],loss,label=\"loss\")\n",
    "plt.plot([i*10 for i in range(len(acc))],acc,label=\"accuracy\")\n",
    "plt.titile(\"training loss/accuracy\")\n",
    "plt.xlabel(\"epoch\")\n",
    "plt.legend()"
   ]
  },
  {
   "cell_type": "code",
   "execution_count": null,
   "id": "780d91db",
   "metadata": {},
   "outputs": [],
   "source": []
  }
 ],
 "metadata": {
  "kernelspec": {
   "display_name": "Python 3 (ipykernel)",
   "language": "python",
   "name": "python3"
  },
  "language_info": {
   "codemirror_mode": {
    "name": "ipython",
    "version": 3
   },
   "file_extension": ".py",
   "mimetype": "text/x-python",
   "name": "python",
   "nbconvert_exporter": "python",
   "pygments_lexer": "ipython3",
   "version": "3.9.12"
  }
 },
 "nbformat": 4,
 "nbformat_minor": 5
}
